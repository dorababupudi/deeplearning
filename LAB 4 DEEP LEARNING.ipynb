{
 "cells": [
  {
   "cell_type": "code",
   "execution_count": 2,
   "id": "fad3e512",
   "metadata": {},
   "outputs": [],
   "source": [
    "import tensorflow as tf\n",
    "import numpy as np\n",
    "import pandas as pd\n",
    "from sklearn.datasets import load_boston\n",
    "from sklearn.model_selection import train_test_split\n"
   ]
  },
  {
   "cell_type": "code",
   "execution_count": 5,
   "id": "720ec117",
   "metadata": {},
   "outputs": [
    {
     "name": "stderr",
     "output_type": "stream",
     "text": [
      "C:\\Users\\ramth\\anaconda3\\lib\\site-packages\\sklearn\\utils\\deprecation.py:87: FutureWarning: Function load_boston is deprecated; `load_boston` is deprecated in 1.0 and will be removed in 1.2.\n",
      "\n",
      "    The Boston housing prices dataset has an ethical problem. You can refer to\n",
      "    the documentation of this function for further details.\n",
      "\n",
      "    The scikit-learn maintainers therefore strongly discourage the use of this\n",
      "    dataset unless the purpose of the code is to study and educate about\n",
      "    ethical issues in data science and machine learning.\n",
      "\n",
      "    In this special case, you can fetch the dataset from the original\n",
      "    source::\n",
      "\n",
      "        import pandas as pd\n",
      "        import numpy as np\n",
      "\n",
      "\n",
      "        data_url = \"http://lib.stat.cmu.edu/datasets/boston\"\n",
      "        raw_df = pd.read_csv(data_url, sep=\"\\s+\", skiprows=22, header=None)\n",
      "        data = np.hstack([raw_df.values[::2, :], raw_df.values[1::2, :2]])\n",
      "        target = raw_df.values[1::2, 2]\n",
      "\n",
      "    Alternative datasets include the California housing dataset (i.e.\n",
      "    :func:`~sklearn.datasets.fetch_california_housing`) and the Ames housing\n",
      "    dataset. You can load the datasets as follows::\n",
      "\n",
      "        from sklearn.datasets import fetch_california_housing\n",
      "        housing = fetch_california_housing()\n",
      "\n",
      "    for the California housing dataset and::\n",
      "\n",
      "        from sklearn.datasets import fetch_openml\n",
      "        housing = fetch_openml(name=\"house_prices\", as_frame=True)\n",
      "\n",
      "    for the Ames housing dataset.\n",
      "    \n",
      "  warnings.warn(msg, category=FutureWarning)\n"
     ]
    }
   ],
   "source": [
    "boston_data=load_boston()"
   ]
  },
  {
   "cell_type": "code",
   "execution_count": 10,
   "id": "e56faec3",
   "metadata": {},
   "outputs": [],
   "source": [
    "boston=pd.DataFrame(boston_data.data,columns=boston_data.feature_names)\n",
    "boston[\"Price\"]=boston_data.target"
   ]
  },
  {
   "cell_type": "code",
   "execution_count": 11,
   "id": "3b0db659",
   "metadata": {},
   "outputs": [],
   "source": [
    "train_data,test_data,train_target,test_target=train_test_split(boston.drop(\"Price\",axis=1),boston[\"Price\"]test_size=0.25)"
   ]
  },
  {
   "cell_type": "code",
   "execution_count": 14,
   "id": "fd53ca49",
   "metadata": {},
   "outputs": [],
   "source": [
    "model=tf.keras.models.Sequential([\n",
    "    tf.keras.layers.Dense(64,activation=\"relu\",input_shape=(train_data.shape[1],)),\n",
    "    tf.keras.layers.Dense(32,activation=\"relu\"),\n",
    "    tf.keras.layers.Dense(16,activation=\"relu\"),\n",
    "    tf.keras.layers.Dense(1)\n",
    "])"
   ]
  },
  {
   "cell_type": "code",
   "execution_count": 15,
   "id": "9b7d193d",
   "metadata": {},
   "outputs": [],
   "source": [
    "model.compile(optimizer=tf.keras.optimizers.Adam(0.001),loss='mse',metrics=['mae'])"
   ]
  },
  {
   "cell_type": "code",
   "execution_count": 16,
   "id": "59a04d18",
   "metadata": {},
   "outputs": [
    {
     "name": "stdout",
     "output_type": "stream",
     "text": [
      "Epoch 1/100\n",
      "12/12 [==============================] - 2s 4ms/step - loss: 5014.2808 - mae: 66.8213\n",
      "Epoch 2/100\n",
      "12/12 [==============================] - 0s 3ms/step - loss: 971.2545 - mae: 27.2745\n",
      "Epoch 3/100\n",
      "12/12 [==============================] - 0s 3ms/step - loss: 315.4432 - mae: 14.7858\n",
      "Epoch 4/100\n",
      "12/12 [==============================] - 0s 3ms/step - loss: 158.7262 - mae: 9.7963\n",
      "Epoch 5/100\n",
      "12/12 [==============================] - 0s 2ms/step - loss: 93.1904 - mae: 6.7669\n",
      "Epoch 6/100\n",
      "12/12 [==============================] - 0s 3ms/step - loss: 79.4252 - mae: 6.7163\n",
      "Epoch 7/100\n",
      "12/12 [==============================] - 0s 2ms/step - loss: 72.3214 - mae: 5.9926\n",
      "Epoch 8/100\n",
      "12/12 [==============================] - 0s 2ms/step - loss: 67.8014 - mae: 5.7789\n",
      "Epoch 9/100\n",
      "12/12 [==============================] - 0s 3ms/step - loss: 66.0405 - mae: 5.6233\n",
      "Epoch 10/100\n",
      "12/12 [==============================] - 0s 3ms/step - loss: 65.3686 - mae: 5.5057\n",
      "Epoch 11/100\n",
      "12/12 [==============================] - 0s 3ms/step - loss: 65.0120 - mae: 5.6574\n",
      "Epoch 12/100\n",
      "12/12 [==============================] - 0s 3ms/step - loss: 62.8676 - mae: 5.3610\n",
      "Epoch 13/100\n",
      "12/12 [==============================] - 0s 3ms/step - loss: 62.8166 - mae: 5.4880\n",
      "Epoch 14/100\n",
      "12/12 [==============================] - 0s 2ms/step - loss: 61.7242 - mae: 5.5699\n",
      "Epoch 15/100\n",
      "12/12 [==============================] - 0s 2ms/step - loss: 61.7872 - mae: 5.3053\n",
      "Epoch 16/100\n",
      "12/12 [==============================] - 0s 3ms/step - loss: 60.5403 - mae: 5.4424\n",
      "Epoch 17/100\n",
      "12/12 [==============================] - 0s 3ms/step - loss: 60.2683 - mae: 5.3215\n",
      "Epoch 18/100\n",
      "12/12 [==============================] - 0s 3ms/step - loss: 60.2453 - mae: 5.3534\n",
      "Epoch 19/100\n",
      "12/12 [==============================] - 0s 3ms/step - loss: 59.7020 - mae: 5.3881\n",
      "Epoch 20/100\n",
      "12/12 [==============================] - 0s 4ms/step - loss: 58.7685 - mae: 5.3454\n",
      "Epoch 21/100\n",
      "12/12 [==============================] - 0s 3ms/step - loss: 58.5473 - mae: 5.3360\n",
      "Epoch 22/100\n",
      "12/12 [==============================] - 0s 3ms/step - loss: 59.1935 - mae: 5.5599\n",
      "Epoch 23/100\n",
      "12/12 [==============================] - 0s 3ms/step - loss: 58.8338 - mae: 5.3219\n",
      "Epoch 24/100\n",
      "12/12 [==============================] - 0s 3ms/step - loss: 57.1404 - mae: 5.3172\n",
      "Epoch 25/100\n",
      "12/12 [==============================] - 0s 3ms/step - loss: 56.7532 - mae: 5.3132\n",
      "Epoch 26/100\n",
      "12/12 [==============================] - 0s 4ms/step - loss: 56.9990 - mae: 5.2047\n",
      "Epoch 27/100\n",
      "12/12 [==============================] - 0s 3ms/step - loss: 55.8223 - mae: 5.1221\n",
      "Epoch 28/100\n",
      "12/12 [==============================] - 0s 3ms/step - loss: 54.9453 - mae: 5.0933\n",
      "Epoch 29/100\n",
      "12/12 [==============================] - 0s 2ms/step - loss: 54.1353 - mae: 5.1008\n",
      "Epoch 30/100\n",
      "12/12 [==============================] - 0s 3ms/step - loss: 54.2420 - mae: 5.0588\n",
      "Epoch 31/100\n",
      "12/12 [==============================] - 0s 3ms/step - loss: 53.3378 - mae: 5.0846\n",
      "Epoch 32/100\n",
      "12/12 [==============================] - 0s 3ms/step - loss: 53.2254 - mae: 5.0846\n",
      "Epoch 33/100\n",
      "12/12 [==============================] - 0s 4ms/step - loss: 52.8761 - mae: 4.9725\n",
      "Epoch 34/100\n",
      "12/12 [==============================] - 0s 3ms/step - loss: 53.2102 - mae: 5.1239\n",
      "Epoch 35/100\n",
      "12/12 [==============================] - 0s 3ms/step - loss: 52.6925 - mae: 5.1078\n",
      "Epoch 36/100\n",
      "12/12 [==============================] - 0s 3ms/step - loss: 52.8256 - mae: 5.0423\n",
      "Epoch 37/100\n",
      "12/12 [==============================] - 0s 2ms/step - loss: 50.5929 - mae: 4.8476\n",
      "Epoch 38/100\n",
      "12/12 [==============================] - 0s 3ms/step - loss: 51.1443 - mae: 4.9995\n",
      "Epoch 39/100\n",
      "12/12 [==============================] - 0s 2ms/step - loss: 50.9655 - mae: 4.8928\n",
      "Epoch 40/100\n",
      "12/12 [==============================] - 0s 3ms/step - loss: 49.5479 - mae: 4.9850\n",
      "Epoch 41/100\n",
      "12/12 [==============================] - 0s 3ms/step - loss: 49.7875 - mae: 4.8255\n",
      "Epoch 42/100\n",
      "12/12 [==============================] - 0s 2ms/step - loss: 48.2767 - mae: 4.8187\n",
      "Epoch 43/100\n",
      "12/12 [==============================] - 0s 3ms/step - loss: 48.8399 - mae: 4.9387\n",
      "Epoch 44/100\n",
      "12/12 [==============================] - 0s 3ms/step - loss: 48.0839 - mae: 4.6442\n",
      "Epoch 45/100\n",
      "12/12 [==============================] - 0s 3ms/step - loss: 49.7043 - mae: 4.8638\n",
      "Epoch 46/100\n",
      "12/12 [==============================] - 0s 3ms/step - loss: 48.5712 - mae: 5.0609\n",
      "Epoch 47/100\n",
      "12/12 [==============================] - 0s 3ms/step - loss: 49.7110 - mae: 4.9957\n",
      "Epoch 48/100\n",
      "12/12 [==============================] - 0s 3ms/step - loss: 51.1335 - mae: 4.9756\n",
      "Epoch 49/100\n",
      "12/12 [==============================] - 0s 2ms/step - loss: 45.1769 - mae: 4.5326\n",
      "Epoch 50/100\n",
      "12/12 [==============================] - 0s 3ms/step - loss: 45.0998 - mae: 4.7193\n",
      "Epoch 51/100\n",
      "12/12 [==============================] - 0s 4ms/step - loss: 45.1184 - mae: 4.5813\n",
      "Epoch 52/100\n",
      "12/12 [==============================] - 0s 3ms/step - loss: 44.0677 - mae: 4.5974\n",
      "Epoch 53/100\n",
      "12/12 [==============================] - 0s 4ms/step - loss: 43.7849 - mae: 4.5859\n",
      "Epoch 54/100\n",
      "12/12 [==============================] - 0s 3ms/step - loss: 43.1116 - mae: 4.5575\n",
      "Epoch 55/100\n",
      "12/12 [==============================] - 0s 2ms/step - loss: 42.5096 - mae: 4.5220\n",
      "Epoch 56/100\n",
      "12/12 [==============================] - 0s 2ms/step - loss: 42.3695 - mae: 4.4942\n",
      "Epoch 57/100\n",
      "12/12 [==============================] - 0s 3ms/step - loss: 42.0058 - mae: 4.5014\n",
      "Epoch 58/100\n",
      "12/12 [==============================] - 0s 3ms/step - loss: 42.0014 - mae: 4.4238\n",
      "Epoch 59/100\n",
      "12/12 [==============================] - 0s 2ms/step - loss: 41.2465 - mae: 4.4548\n",
      "Epoch 60/100\n",
      "12/12 [==============================] - 0s 3ms/step - loss: 42.1837 - mae: 4.4834\n",
      "Epoch 61/100\n",
      "12/12 [==============================] - 0s 2ms/step - loss: 43.2088 - mae: 4.6053\n",
      "Epoch 62/100\n",
      "12/12 [==============================] - 0s 2ms/step - loss: 41.8062 - mae: 4.4690\n",
      "Epoch 63/100\n",
      "12/12 [==============================] - 0s 3ms/step - loss: 41.4424 - mae: 4.5388\n",
      "Epoch 64/100\n",
      "12/12 [==============================] - 0s 2ms/step - loss: 41.6238 - mae: 4.4705\n",
      "Epoch 65/100\n",
      "12/12 [==============================] - 0s 2ms/step - loss: 38.6936 - mae: 4.3559\n",
      "Epoch 66/100\n",
      "12/12 [==============================] - 0s 2ms/step - loss: 38.2588 - mae: 4.3214\n",
      "Epoch 67/100\n",
      "12/12 [==============================] - 0s 2ms/step - loss: 38.1223 - mae: 4.2463\n",
      "Epoch 68/100\n",
      "12/12 [==============================] - 0s 3ms/step - loss: 38.0649 - mae: 4.2847\n",
      "Epoch 69/100\n",
      "12/12 [==============================] - 0s 3ms/step - loss: 39.8343 - mae: 4.5397\n",
      "Epoch 70/100\n",
      "12/12 [==============================] - 0s 2ms/step - loss: 37.9406 - mae: 4.2872\n",
      "Epoch 71/100\n",
      "12/12 [==============================] - 0s 3ms/step - loss: 38.0548 - mae: 4.4403\n",
      "Epoch 72/100\n",
      "12/12 [==============================] - 0s 2ms/step - loss: 40.5782 - mae: 4.5854\n",
      "Epoch 73/100\n",
      "12/12 [==============================] - 0s 3ms/step - loss: 38.3565 - mae: 4.4281\n",
      "Epoch 74/100\n",
      "12/12 [==============================] - 0s 3ms/step - loss: 36.1717 - mae: 4.2130\n",
      "Epoch 75/100\n",
      "12/12 [==============================] - 0s 2ms/step - loss: 36.0877 - mae: 4.1222\n",
      "Epoch 76/100\n",
      "12/12 [==============================] - 0s 3ms/step - loss: 39.2237 - mae: 4.5237\n",
      "Epoch 77/100\n",
      "12/12 [==============================] - 0s 3ms/step - loss: 37.7767 - mae: 4.4028\n",
      "Epoch 78/100\n",
      "12/12 [==============================] - 0s 2ms/step - loss: 38.1285 - mae: 4.3762\n",
      "Epoch 79/100\n",
      "12/12 [==============================] - 0s 3ms/step - loss: 35.8355 - mae: 4.1696\n",
      "Epoch 80/100\n",
      "12/12 [==============================] - 0s 2ms/step - loss: 36.5793 - mae: 4.2380\n",
      "Epoch 81/100\n",
      "12/12 [==============================] - 0s 3ms/step - loss: 36.0546 - mae: 4.2094\n",
      "Epoch 82/100\n",
      "12/12 [==============================] - 0s 4ms/step - loss: 34.0139 - mae: 3.9985\n",
      "Epoch 83/100\n",
      "12/12 [==============================] - 0s 3ms/step - loss: 36.9710 - mae: 4.3793\n",
      "Epoch 84/100\n",
      "12/12 [==============================] - 0s 3ms/step - loss: 34.8946 - mae: 4.1731\n",
      "Epoch 85/100\n",
      "12/12 [==============================] - 0s 2ms/step - loss: 37.3669 - mae: 4.3495\n",
      "Epoch 86/100\n"
     ]
    },
    {
     "name": "stdout",
     "output_type": "stream",
     "text": [
      "12/12 [==============================] - 0s 3ms/step - loss: 33.1312 - mae: 4.0388\n",
      "Epoch 87/100\n",
      "12/12 [==============================] - 0s 2ms/step - loss: 33.0449 - mae: 4.0986\n",
      "Epoch 88/100\n",
      "12/12 [==============================] - 0s 3ms/step - loss: 33.3239 - mae: 4.0724\n",
      "Epoch 89/100\n",
      "12/12 [==============================] - 0s 3ms/step - loss: 32.9178 - mae: 4.0865\n",
      "Epoch 90/100\n",
      "12/12 [==============================] - 0s 2ms/step - loss: 33.0531 - mae: 4.1717\n",
      "Epoch 91/100\n",
      "12/12 [==============================] - 0s 2ms/step - loss: 32.6462 - mae: 4.0628\n",
      "Epoch 92/100\n",
      "12/12 [==============================] - 0s 3ms/step - loss: 32.9779 - mae: 4.2063\n",
      "Epoch 93/100\n",
      "12/12 [==============================] - 0s 3ms/step - loss: 32.7986 - mae: 4.0636\n",
      "Epoch 94/100\n",
      "12/12 [==============================] - 0s 3ms/step - loss: 32.2997 - mae: 4.0585\n",
      "Epoch 95/100\n",
      "12/12 [==============================] - 0s 3ms/step - loss: 33.6225 - mae: 4.1987\n",
      "Epoch 96/100\n",
      "12/12 [==============================] - 0s 2ms/step - loss: 33.3712 - mae: 4.1202\n",
      "Epoch 97/100\n",
      "12/12 [==============================] - 0s 2ms/step - loss: 33.8739 - mae: 4.1833\n",
      "Epoch 98/100\n",
      "12/12 [==============================] - 0s 2ms/step - loss: 33.4063 - mae: 4.0813\n",
      "Epoch 99/100\n",
      "12/12 [==============================] - 0s 3ms/step - loss: 32.3544 - mae: 4.0595\n",
      "Epoch 100/100\n",
      "12/12 [==============================] - 0s 3ms/step - loss: 32.0094 - mae: 4.0911\n"
     ]
    },
    {
     "data": {
      "text/plain": [
       "<keras.callbacks.History at 0x245a1cda910>"
      ]
     },
     "execution_count": 16,
     "metadata": {},
     "output_type": "execute_result"
    }
   ],
   "source": [
    "model.fit(train_data,train_target,epochs=100,batch_size=32)"
   ]
  },
  {
   "cell_type": "code",
   "execution_count": 17,
   "id": "44110790",
   "metadata": {},
   "outputs": [
    {
     "name": "stdout",
     "output_type": "stream",
     "text": [
      "4/4 [==============================] - 0s 3ms/step - loss: 31.4536 - mae: 4.2669\n"
     ]
    }
   ],
   "source": [
    "test_loss,test_mae=model.evaluate(test_data,test_target)"
   ]
  },
  {
   "cell_type": "code",
   "execution_count": 18,
   "id": "a43a087b",
   "metadata": {},
   "outputs": [
    {
     "name": "stdout",
     "output_type": "stream",
     "text": [
      "Test loss: 31.45358657836914\n",
      "Test Mean Absolute Error: 4.266946792602539\n"
     ]
    }
   ],
   "source": [
    "print(\"Test loss:\",test_loss)\n",
    "print(\"Test Mean Absolute Error:\",test_mae)"
   ]
  },
  {
   "cell_type": "code",
   "execution_count": null,
   "id": "55b85d88",
   "metadata": {},
   "outputs": [],
   "source": []
  }
 ],
 "metadata": {
  "kernelspec": {
   "display_name": "Python 3 (ipykernel)",
   "language": "python",
   "name": "python3"
  },
  "language_info": {
   "codemirror_mode": {
    "name": "ipython",
    "version": 3
   },
   "file_extension": ".py",
   "mimetype": "text/x-python",
   "name": "python",
   "nbconvert_exporter": "python",
   "pygments_lexer": "ipython3",
   "version": "3.9.12"
  }
 },
 "nbformat": 4,
 "nbformat_minor": 5
}
