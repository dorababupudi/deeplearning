{
 "cells": [
  {
   "cell_type": "code",
   "execution_count": 1,
   "id": "b57fc3d7",
   "metadata": {},
   "outputs": [],
   "source": [
    "sentence=\"The quick brown fox jumps over the lazy dog\""
   ]
  },
  {
   "cell_type": "code",
   "execution_count": 5,
   "id": "29bbc248",
   "metadata": {},
   "outputs": [],
   "source": [
    "words=sentence.split()"
   ]
  },
  {
   "cell_type": "code",
   "execution_count": 7,
   "id": "04cbf069",
   "metadata": {},
   "outputs": [
    {
     "data": {
      "text/plain": [
       "['The', 'quick', 'brown', 'fox', 'jumps', 'over', 'the', 'lazy', 'dog']"
      ]
     },
     "execution_count": 7,
     "metadata": {},
     "output_type": "execute_result"
    }
   ],
   "source": [
    "words"
   ]
  },
  {
   "cell_type": "code",
   "execution_count": 8,
   "id": "52b75919",
   "metadata": {},
   "outputs": [],
   "source": [
    "unique_words=set(words)"
   ]
  },
  {
   "cell_type": "code",
   "execution_count": 9,
   "id": "16501c8b",
   "metadata": {},
   "outputs": [
    {
     "data": {
      "text/plain": [
       "{'The', 'brown', 'dog', 'fox', 'jumps', 'lazy', 'over', 'quick', 'the'}"
      ]
     },
     "execution_count": 9,
     "metadata": {},
     "output_type": "execute_result"
    }
   ],
   "source": [
    "unique_words"
   ]
  },
  {
   "cell_type": "code",
   "execution_count": 10,
   "id": "bac67a54",
   "metadata": {},
   "outputs": [],
   "source": [
    "encoding={}"
   ]
  },
  {
   "cell_type": "code",
   "execution_count": 20,
   "id": "50219d3c",
   "metadata": {},
   "outputs": [
    {
     "name": "stdout",
     "output_type": "stream",
     "text": [
      "The\n",
      "0\n",
      "the\n",
      "1\n",
      "dog\n",
      "2\n",
      "brown\n",
      "3\n",
      "fox\n",
      "4\n",
      "quick\n",
      "5\n",
      "lazy\n",
      "6\n",
      "over\n",
      "7\n",
      "jumps\n",
      "8\n"
     ]
    }
   ],
   "source": [
    "for i,word in enumerate(unique_words):\n",
    "    print(word)\n",
    "    print(i)\n",
    "    encoding[word]=[0]*i+[1]+[0]*(len(unique_words))"
   ]
  },
  {
   "cell_type": "code",
   "execution_count": 17,
   "id": "d13b9b6f",
   "metadata": {},
   "outputs": [
    {
     "name": "stdout",
     "output_type": "stream",
     "text": [
      "The [1, 0, 0, 0, 0, 0, 0, 0, 0, 0]\n",
      "quick [0, 0, 0, 0, 0, 1, 0, 0, 0, 0, 0, 0, 0, 0, 0]\n",
      "brown [0, 0, 0, 1, 0, 0, 0, 0, 0, 0, 0, 0, 0]\n",
      "fox [0, 0, 0, 0, 1, 0, 0, 0, 0, 0, 0, 0, 0, 0]\n",
      "jumps [0, 0, 0, 0, 0, 0, 0, 0, 1, 0, 0, 0, 0, 0, 0, 0, 0, 0]\n",
      "over [0, 0, 0, 0, 0, 0, 0, 1, 0, 0, 0, 0, 0, 0, 0, 0, 0]\n",
      "the [0, 1, 0, 0, 0, 0, 0, 0, 0, 0, 0]\n",
      "lazy [0, 0, 0, 0, 0, 0, 1, 0, 0, 0, 0, 0, 0, 0, 0, 0]\n",
      "dog [0, 0, 1, 0, 0, 0, 0, 0, 0, 0, 0, 0]\n"
     ]
    }
   ],
   "source": [
    "for word in words:\n",
    "    print(word,encoding[word])"
   ]
  },
  {
   "cell_type": "code",
   "execution_count": 4,
   "id": "54eb3b85",
   "metadata": {},
   "outputs": [],
   "source": [
    "import numpy as np\n",
    "import tensorflow as tf\n",
    "from tensorflow import keras\n"
   ]
  },
  {
   "cell_type": "code",
   "execution_count": 5,
   "id": "f1c9a4ed",
   "metadata": {},
   "outputs": [],
   "source": [
    "from keras.datasets import imdb"
   ]
  },
  {
   "cell_type": "code",
   "execution_count": 6,
   "id": "8aa8d948",
   "metadata": {},
   "outputs": [],
   "source": [
    "(X_train,y_train), (X_test, y_test) = imdb.load_data(num_words=1000)"
   ]
  },
  {
   "cell_type": "code",
   "execution_count": 7,
   "id": "28a900a1",
   "metadata": {},
   "outputs": [],
   "source": [
    "def vectorize_sequences(sequences,dimension=10000):\n",
    "    results=np.zeros((len(sequences),dimension))\n",
    "    for i,sequence in enumerate(sequences):\n",
    "      results[i,sequence]=1\n",
    "    return results"
   ]
  },
  {
   "cell_type": "code",
   "execution_count": 8,
   "id": "f6542955",
   "metadata": {},
   "outputs": [],
   "source": [
    "x_train=vectorize_sequences(X_train)\n",
    "x_test=vectorize_sequences(X_test)\n"
   ]
  },
  {
   "cell_type": "code",
   "execution_count": 9,
   "id": "20642d38",
   "metadata": {},
   "outputs": [],
   "source": [
    "y_train=np.asarray(y_train).astype('float32')\n",
    "y_test=np.asarray(y_test).astype('float32')"
   ]
  },
  {
   "cell_type": "code",
   "execution_count": 10,
   "id": "4ad32579",
   "metadata": {},
   "outputs": [
    {
     "data": {
      "text/plain": [
       "array([[0., 1., 1., ..., 0., 0., 0.],\n",
       "       [0., 1., 1., ..., 0., 0., 0.],\n",
       "       [0., 1., 1., ..., 0., 0., 0.],\n",
       "       ...,\n",
       "       [0., 1., 1., ..., 0., 0., 0.],\n",
       "       [0., 1., 1., ..., 0., 0., 0.],\n",
       "       [0., 1., 1., ..., 0., 0., 0.]])"
      ]
     },
     "execution_count": 10,
     "metadata": {},
     "output_type": "execute_result"
    }
   ],
   "source": [
    "x_train"
   ]
  },
  {
   "cell_type": "code",
   "execution_count": 11,
   "id": "55435d14",
   "metadata": {},
   "outputs": [
    {
     "data": {
      "text/plain": [
       "array([[0., 1., 1., ..., 0., 0., 0.],\n",
       "       [0., 1., 1., ..., 0., 0., 0.],\n",
       "       [0., 1., 1., ..., 0., 0., 0.],\n",
       "       ...,\n",
       "       [0., 1., 1., ..., 0., 0., 0.],\n",
       "       [0., 1., 1., ..., 0., 0., 0.],\n",
       "       [0., 1., 1., ..., 0., 0., 0.]])"
      ]
     },
     "execution_count": 11,
     "metadata": {},
     "output_type": "execute_result"
    }
   ],
   "source": [
    "x_test"
   ]
  },
  {
   "cell_type": "code",
   "execution_count": 12,
   "id": "9b730316",
   "metadata": {},
   "outputs": [
    {
     "data": {
      "text/plain": [
       "array([1., 0., 0., ..., 0., 1., 0.], dtype=float32)"
      ]
     },
     "execution_count": 12,
     "metadata": {},
     "output_type": "execute_result"
    }
   ],
   "source": [
    "y_train"
   ]
  },
  {
   "cell_type": "code",
   "execution_count": 13,
   "id": "42ffdfe6",
   "metadata": {},
   "outputs": [
    {
     "data": {
      "text/plain": [
       "array([0., 1., 1., ..., 0., 0., 0.], dtype=float32)"
      ]
     },
     "execution_count": 13,
     "metadata": {},
     "output_type": "execute_result"
    }
   ],
   "source": [
    "y_test"
   ]
  },
  {
   "cell_type": "code",
   "execution_count": 17,
   "id": "2039e53b",
   "metadata": {},
   "outputs": [],
   "source": [
    "embedding_dim=16\n",
    "model=keras.Sequential([keras.layers.Embedding(10000,embedding_dim,input_length=10000),\n",
    "keras.layers.Flatten(),\n",
    "keras.layers.Dense(16,activation='relu'),\n",
    "keras.layers.Dense(1,activation='sigmoid')])"
   ]
  },
  {
   "cell_type": "code",
   "execution_count": 18,
   "id": "ab801701",
   "metadata": {},
   "outputs": [],
   "source": [
    "model.compile(optimizer='adam',loss='binary_crossentropy',metrics=['accuracy'])"
   ]
  },
  {
   "cell_type": "code",
   "execution_count": 19,
   "id": "e773a05f",
   "metadata": {},
   "outputs": [
    {
     "name": "stdout",
     "output_type": "stream",
     "text": [
      "Epoch 1/5\n",
      "49/49 [==============================] - 80s 1s/step - loss: 0.7937 - accuracy: 0.5502 - val_loss: 0.6536 - val_accuracy: 0.5332\n",
      "Epoch 2/5\n",
      "49/49 [==============================] - 58s 1s/step - loss: 0.5672 - accuracy: 0.7613 - val_loss: 0.4923 - val_accuracy: 0.7994\n",
      "Epoch 3/5\n",
      "49/49 [==============================] - 207s 4s/step - loss: 0.4330 - accuracy: 0.8243 - val_loss: 0.3963 - val_accuracy: 0.8349\n",
      "Epoch 4/5\n",
      "49/49 [==============================] - 55s 1s/step - loss: 0.3671 - accuracy: 0.8458 - val_loss: 0.3771 - val_accuracy: 0.8333\n",
      "Epoch 5/5\n",
      "49/49 [==============================] - 53s 1s/step - loss: 0.3412 - accuracy: 0.8573 - val_loss: 0.3494 - val_accuracy: 0.8519\n"
     ]
    }
   ],
   "source": [
    "history=model.fit(x_train,y_train,epochs=5,batch_size=512,validation_data=(x_test,y_test))"
   ]
  },
  {
   "cell_type": "code",
   "execution_count": 21,
   "id": "41ed1902",
   "metadata": {},
   "outputs": [
    {
     "name": "stdout",
     "output_type": "stream",
     "text": [
      "Test Accuracy: 0.8519200086593628\n"
     ]
    }
   ],
   "source": [
    "result=model.evaluate(x_test,y_test,verbose=0)\n",
    "print(\"Test Accuracy:\",result[1])"
   ]
  },
  {
   "cell_type": "code",
   "execution_count": 22,
   "id": "c763c8a9",
   "metadata": {},
   "outputs": [
    {
     "name": "stdout",
     "output_type": "stream",
     "text": [
      "Model: \"sequential_1\"\n",
      "_________________________________________________________________\n",
      " Layer (type)                Output Shape              Param #   \n",
      "=================================================================\n",
      " embedding_1 (Embedding)     (None, 10000, 16)         160000    \n",
      "                                                                 \n",
      " flatten_1 (Flatten)         (None, 160000)            0         \n",
      "                                                                 \n",
      " dense_2 (Dense)             (None, 16)                2560016   \n",
      "                                                                 \n",
      " dense_3 (Dense)             (None, 1)                 17        \n",
      "                                                                 \n",
      "=================================================================\n",
      "Total params: 2,720,033\n",
      "Trainable params: 2,720,033\n",
      "Non-trainable params: 0\n",
      "_________________________________________________________________\n"
     ]
    }
   ],
   "source": [
    "model.summary()"
   ]
  },
  {
   "cell_type": "code",
   "execution_count": null,
   "id": "ca2f2ce0",
   "metadata": {},
   "outputs": [],
   "source": []
  }
 ],
 "metadata": {
  "kernelspec": {
   "display_name": "Python 3 (ipykernel)",
   "language": "python",
   "name": "python3"
  },
  "language_info": {
   "codemirror_mode": {
    "name": "ipython",
    "version": 3
   },
   "file_extension": ".py",
   "mimetype": "text/x-python",
   "name": "python",
   "nbconvert_exporter": "python",
   "pygments_lexer": "ipython3",
   "version": "3.9.12"
  }
 },
 "nbformat": 4,
 "nbformat_minor": 5
}
